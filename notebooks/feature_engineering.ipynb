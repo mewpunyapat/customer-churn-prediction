{
 "cells": [
  {
   "cell_type": "markdown",
   "id": "b410ad6e",
   "metadata": {},
   "source": [
    "# Feature Engineering"
   ]
  },
  {
   "cell_type": "markdown",
   "id": "91f52251",
   "metadata": {},
   "source": []
  }
 ],
 "metadata": {
  "language_info": {
   "name": "python"
  }
 },
 "nbformat": 4,
 "nbformat_minor": 5
}
